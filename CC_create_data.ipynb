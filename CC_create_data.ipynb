{
  "nbformat": 4,
  "nbformat_minor": 0,
  "metadata": {
    "colab": {
      "provenance": []
    },
    "kernelspec": {
      "name": "python3",
      "display_name": "Python 3"
    },
    "language_info": {
      "name": "python"
    }
  },
  "cells": [
    {
      "cell_type": "code",
      "execution_count": null,
      "metadata": {
        "id": "wJbam4_pOhus"
      },
      "outputs": [],
      "source": [
        "\n",
        "\n",
        "#data_df = pd.read_csv('/content/banknote_net.csv')\n",
        "#data_feather = pd.read_feather('/content/banknote_net.feather')\n",
        "\n"
      ]
    },
    {
      "cell_type": "markdown",
      "source": [
        "#TRAIN FROM EMBEDDING"
      ],
      "metadata": {
        "id": "qcr0AF6fuxLj"
      }
    },
    {
      "cell_type": "code",
      "source": [
        "import argparse\n",
        "\n",
        "#a list of allowable currency choice\n",
        "currency_choices = [\n",
        "    'AUD',\n",
        "    'BRL',\n",
        "    'CAD',\n",
        "    'EUR',\n",
        "    'GBP',\n",
        "    'INR',\n",
        "    'JPY',\n",
        "    'MXN',\n",
        "    'PKR',\n",
        "    'SGD',\n",
        "    'TRY',\n",
        "    'USD',\n",
        "    'NZD',\n",
        "    'NNR',\n",
        "    'MYR',\n",
        "    'IDR',\n",
        "    'PHP'\n",
        "]\n",
        "\n",
        "def parse_arguments():\n",
        "  #parse argument for shallow classifier training.\n",
        "  #return argparse parsed arguments.\n",
        "\n",
        "  #parser arguments and load data\n",
        "  parser = argparse.ArgumentParser(description=\"Train model from embeddings.\")\n",
        "  parser.add_argument(\n",
        "      \"--currency\",\n",
        "      \"--c\",\n",
        "      type=str,\n",
        "      choices=currency_choices,\n",
        "      help = \"String of currency for which to train shallow classifier\",\n",
        "      required=True,\n",
        "  )\n",
        "  parser.add_argument(\n",
        "      \"--bsize\",\n",
        "      \"--b\",\n",
        "      type=int,\n",
        "      help=\"Batch size for shallow classifier\",\n",
        "      default=128,\n",
        "  )\n",
        "  parser.add_argument(\n",
        "      \"--epochs\",\n",
        "      \"--e\",\n",
        "      type=int,\n",
        "      help=\"Number of epochs for training shallow top classifier\",\n",
        "      default = 25,\n",
        "  )\n",
        "  parser.add_argument(\n",
        "      \"--dpath\",\n",
        "      \"--d\",\n",
        "      type=str,\n",
        "      help=\"Path to .feather Banknote net embeddings\",\n",
        "      default=\"/content/banknote_net.feather\",\n",
        "  )\n",
        "  \n",
        "  return parser.parse_args()\n",
        "\n"
      ],
      "metadata": {
        "id": "Kb_gebbtujt4"
      },
      "execution_count": null,
      "outputs": []
    },
    {
      "cell_type": "markdown",
      "source": [
        "#training model\n"
      ],
      "metadata": {
        "id": "tPg8xh0I4VsP"
      }
    },
    {
      "cell_type": "code",
      "source": [
        "PATH = \"/content/banknote_net.feather\"\n",
        "data = pd.read_feather(PATH)\n",
        "len(data.Currency.unique())\n",
        "\n"
      ],
      "metadata": {
        "colab": {
          "base_uri": "https://localhost:8080/"
        },
        "id": "kEjZ1g9Z6o-V",
        "outputId": "5bd94dd9-dfd1-4085-f942-152973d44f24"
      },
      "execution_count": null,
      "outputs": [
        {
          "output_type": "execute_result",
          "data": {
            "text/plain": [
              "17"
            ]
          },
          "metadata": {},
          "execution_count": 34
        }
      ]
    },
    {
      "cell_type": "code",
      "source": [
        "CURRENCY = [\n",
        "    'AUD',\n",
        "    'BRL',\n",
        "    'CAD',\n",
        "    'EUR',\n",
        "    'GBP',\n",
        "    'INR',\n",
        "    'JPY',\n",
        "    'MXN',\n",
        "    'PKR',\n",
        "    'SGD',\n",
        "    'TRY',\n",
        "    'USD',\n",
        "    'NZD',\n",
        "    'NNR',\n",
        "    'MYR',\n",
        "    'IDR',\n",
        "    'PHP',\n",
        "]\n",
        "data.Currency"
      ],
      "metadata": {
        "colab": {
          "base_uri": "https://localhost:8080/"
        },
        "id": "zQlBLLrT7KBt",
        "outputId": "b60c0c19-87c6-436b-d9b6-dc80bb374ffa"
      },
      "execution_count": null,
      "outputs": [
        {
          "output_type": "execute_result",
          "data": {
            "text/plain": [
              "0        AUD\n",
              "1        AUD\n",
              "2        AUD\n",
              "3        AUD\n",
              "4        AUD\n",
              "        ... \n",
              "24821    USD\n",
              "24822    USD\n",
              "24823    USD\n",
              "24824    USD\n",
              "24825    USD\n",
              "Name: Currency, Length: 24826, dtype: object"
            ]
          },
          "metadata": {},
          "execution_count": 37
        }
      ]
    },
    {
      "cell_type": "code",
      "source": [
        "import pandas as pd\n",
        "import tensorflow as tf\n",
        "from tensorflow.keras.callbacks import ModelCheckpoint\n",
        "from tensorflow.keras.layers import Dense, Dropout, Input\n",
        "from tensorflow.keras.models import Model\n",
        "def main():\n",
        "  \"trains shallow classifier using embeddings\"\n",
        "\n",
        " # args = parse_arguments()\n",
        "  CURRENCY = [\n",
        "    'AUD',\n",
        "    'BRL',\n",
        "    'CAD',\n",
        "    'EUR',\n",
        "    'GBP',\n",
        "    'INR',\n",
        "    'JPY',\n",
        "    'MXN',\n",
        "    'PKR',\n",
        "    'SGD',\n",
        "    'TRY',\n",
        "    'USD',\n",
        "    'NZD',\n",
        "    'NNR',\n",
        "    'MYR',\n",
        "    'IDR',\n",
        "    'PHP',\n",
        "]\n",
        "  BATCH_SIZE = 128\n",
        "  NB_EPOCH = 25\n",
        "  PATH = \"/content/banknote_net.feather\"\n",
        "\n",
        "  #load data from embedding\n",
        "  data = pd.read_feather(PATH)\n",
        "  data.Currency.unique()\n",
        "  #data = data[data.Currency == CURRENCY]\n",
        "  \n",
        "  data= data.sample(frac = 1)\n",
        "  labels = data.pop(\n",
        "      \"Denomination\"\n",
        "  )\n",
        "  print(\"load data from embedding:ok\")\n",
        "  labels = labels.astype(\"category\")\n",
        "  labels_encoded = pd.get_dummies(labels)\n",
        "  data = data.iloc[:,:-1] #keep the embedding\n",
        "  print(\"data for embedding: ok\")\n",
        "  #define dataset and shallow model\n",
        "  NUM_CLASSES  = len(labels.unique())\n",
        "  NB_TRAINING_SAMPLES = len(data)\n",
        "\n",
        "  input = Input(shape=(256,))\n",
        "  x = Dense(128,activation='relu')(input)\n",
        "  x = Dropout(0.5)(x)\n",
        "  x = Dense(NUM_CLASSES, activation='softmax')(x)\n",
        "  model = Model(inputs=input,outputs=x)\n",
        "  model.summary()\n",
        "  print(\"model build: ok\")\n",
        "  checkpoint = ModelCheckpoint(\n",
        "      filepath = (\"/content/shallow_classifier.h5\"),\n",
        "      monitor = 'val_acc',\n",
        "      save_best_only=True,\n",
        "  )\n",
        "\n",
        "  #compile and fit\n",
        "  model.compile(loss='categorical_crossentropy',\n",
        "                optimizer = tf.keras.optimizers.Adam(lr=1e-3),\n",
        "                metrics=['acc',\n",
        "                         tf.keras.metrics.Precision(),\n",
        "                         tf.keras.metrics.Recall(),\n",
        "                         ],\n",
        "                )\n",
        "  model.fit(x=data.values,\n",
        "            y = labels_encoded.values,\n",
        "            steps_per_epoch = NB_TRAINING_SAMPLES//BATCH_SIZE,\n",
        "            epochs = NB_EPOCH,\n",
        "            validation_split = 0.2,\n",
        "            callbacks = [checkpoint],\n",
        "            )\n"
      ],
      "metadata": {
        "id": "Ek4deVc0w6DP"
      },
      "execution_count": null,
      "outputs": []
    },
    {
      "cell_type": "code",
      "source": [
        "main()"
      ],
      "metadata": {
        "colab": {
          "base_uri": "https://localhost:8080/"
        },
        "id": "79WhLF5l3ZAc",
        "outputId": "e91fdd0e-3d18-4ccd-92f6-ed4ffff55765"
      },
      "execution_count": null,
      "outputs": [
        {
          "output_type": "stream",
          "name": "stdout",
          "text": [
            "load data from embedding:ok\n",
            "data for embedding: ok\n",
            "Model: \"model\"\n",
            "_________________________________________________________________\n",
            " Layer (type)                Output Shape              Param #   \n",
            "=================================================================\n",
            " input_1 (InputLayer)        [(None, 256)]             0         \n",
            "                                                                 \n",
            " dense (Dense)               (None, 128)               32896     \n",
            "                                                                 \n",
            " dropout (Dropout)           (None, 128)               0         \n",
            "                                                                 \n",
            " dense_1 (Dense)             (None, 56)                7224      \n",
            "                                                                 \n",
            "=================================================================\n",
            "Total params: 40,120\n",
            "Trainable params: 40,120\n",
            "Non-trainable params: 0\n",
            "_________________________________________________________________\n",
            "model build: ok\n"
          ]
        },
        {
          "output_type": "stream",
          "name": "stderr",
          "text": [
            "/usr/local/lib/python3.7/dist-packages/keras/optimizers/optimizer_v2/adam.py:110: UserWarning: The `lr` argument is deprecated, use `learning_rate` instead.\n",
            "  super(Adam, self).__init__(name, **kwargs)\n"
          ]
        },
        {
          "output_type": "stream",
          "name": "stdout",
          "text": [
            "Epoch 1/25\n",
            "193/193 [==============================] - 3s 8ms/step - loss: 2.4899 - acc: 0.3665 - precision: 0.8278 - recall: 0.1697 - val_loss: 1.1287 - val_acc: 0.7437 - val_precision: 0.9658 - val_recall: 0.5226\n",
            "Epoch 2/25\n",
            "193/193 [==============================] - 1s 6ms/step - loss: 1.2195 - acc: 0.6708 - precision: 0.8986 - recall: 0.5057 - val_loss: 0.6948 - val_acc: 0.8313 - val_precision: 0.9700 - val_recall: 0.7217\n",
            "Epoch 3/25\n",
            "193/193 [==============================] - 1s 6ms/step - loss: 0.9176 - acc: 0.7514 - precision: 0.9133 - recall: 0.6342 - val_loss: 0.5547 - val_acc: 0.8582 - val_precision: 0.9661 - val_recall: 0.7749\n",
            "Epoch 4/25\n",
            "193/193 [==============================] - 1s 6ms/step - loss: 0.7784 - acc: 0.7833 - precision: 0.9156 - recall: 0.6918 - val_loss: 0.4861 - val_acc: 0.8681 - val_precision: 0.9652 - val_recall: 0.8033\n",
            "Epoch 5/25\n",
            "193/193 [==============================] - 1s 6ms/step - loss: 0.6882 - acc: 0.8032 - precision: 0.9229 - recall: 0.7233 - val_loss: 0.4461 - val_acc: 0.8760 - val_precision: 0.9644 - val_recall: 0.8178\n",
            "Epoch 6/25\n",
            "193/193 [==============================] - 1s 6ms/step - loss: 0.6425 - acc: 0.8187 - precision: 0.9257 - recall: 0.7437 - val_loss: 0.4306 - val_acc: 0.8846 - val_precision: 0.9666 - val_recall: 0.8264\n",
            "Epoch 7/25\n",
            "193/193 [==============================] - 1s 6ms/step - loss: 0.5897 - acc: 0.8329 - precision: 0.9321 - recall: 0.7650 - val_loss: 0.3966 - val_acc: 0.8876 - val_precision: 0.9635 - val_recall: 0.8407\n",
            "Epoch 8/25\n",
            "193/193 [==============================] - 1s 6ms/step - loss: 0.5619 - acc: 0.8382 - precision: 0.9287 - recall: 0.7760 - val_loss: 0.3887 - val_acc: 0.8909 - val_precision: 0.9603 - val_recall: 0.8435\n",
            "Epoch 9/25\n",
            "193/193 [==============================] - 1s 6ms/step - loss: 0.5201 - acc: 0.8469 - precision: 0.9309 - recall: 0.7920 - val_loss: 0.3737 - val_acc: 0.8927 - val_precision: 0.9608 - val_recall: 0.8494\n",
            "Epoch 10/25\n",
            "193/193 [==============================] - 2s 8ms/step - loss: 0.5037 - acc: 0.8528 - precision: 0.9341 - recall: 0.7989 - val_loss: 0.3649 - val_acc: 0.8987 - val_precision: 0.9627 - val_recall: 0.8534\n",
            "Epoch 11/25\n",
            "193/193 [==============================] - 2s 10ms/step - loss: 0.4776 - acc: 0.8601 - precision: 0.9372 - recall: 0.8085 - val_loss: 0.3530 - val_acc: 0.9009 - val_precision: 0.9615 - val_recall: 0.8607\n",
            "Epoch 12/25\n",
            "193/193 [==============================] - 1s 6ms/step - loss: 0.4594 - acc: 0.8641 - precision: 0.9367 - recall: 0.8136 - val_loss: 0.3448 - val_acc: 0.9019 - val_precision: 0.9647 - val_recall: 0.8639\n",
            "Epoch 13/25\n",
            "193/193 [==============================] - 1s 6ms/step - loss: 0.4491 - acc: 0.8658 - precision: 0.9376 - recall: 0.8187 - val_loss: 0.3447 - val_acc: 0.8997 - val_precision: 0.9561 - val_recall: 0.8683\n",
            "Epoch 14/25\n",
            "193/193 [==============================] - 1s 6ms/step - loss: 0.4286 - acc: 0.8733 - precision: 0.9384 - recall: 0.8266 - val_loss: 0.3382 - val_acc: 0.9017 - val_precision: 0.9612 - val_recall: 0.8683\n",
            "Epoch 15/25\n",
            "193/193 [==============================] - 1s 5ms/step - loss: 0.4161 - acc: 0.8743 - precision: 0.9382 - recall: 0.8296 - val_loss: 0.3344 - val_acc: 0.9041 - val_precision: 0.9603 - val_recall: 0.8717\n",
            "Epoch 16/25\n",
            "193/193 [==============================] - 1s 5ms/step - loss: 0.4090 - acc: 0.8749 - precision: 0.9391 - recall: 0.8328 - val_loss: 0.3310 - val_acc: 0.9031 - val_precision: 0.9579 - val_recall: 0.8699\n",
            "Epoch 17/25\n",
            "193/193 [==============================] - 1s 6ms/step - loss: 0.3956 - acc: 0.8796 - precision: 0.9405 - recall: 0.8383 - val_loss: 0.3218 - val_acc: 0.9068 - val_precision: 0.9602 - val_recall: 0.8743\n",
            "Epoch 18/25\n",
            "193/193 [==============================] - 1s 6ms/step - loss: 0.3903 - acc: 0.8802 - precision: 0.9399 - recall: 0.8398 - val_loss: 0.3241 - val_acc: 0.9056 - val_precision: 0.9564 - val_recall: 0.8756\n",
            "Epoch 19/25\n",
            "193/193 [==============================] - 1s 6ms/step - loss: 0.3736 - acc: 0.8840 - precision: 0.9413 - recall: 0.8452 - val_loss: 0.3216 - val_acc: 0.9043 - val_precision: 0.9575 - val_recall: 0.8804\n",
            "Epoch 20/25\n",
            "193/193 [==============================] - 1s 6ms/step - loss: 0.3658 - acc: 0.8879 - precision: 0.9431 - recall: 0.8504 - val_loss: 0.3165 - val_acc: 0.9096 - val_precision: 0.9594 - val_recall: 0.8844\n",
            "Epoch 21/25\n",
            "193/193 [==============================] - 1s 6ms/step - loss: 0.3591 - acc: 0.8889 - precision: 0.9427 - recall: 0.8553 - val_loss: 0.3171 - val_acc: 0.9096 - val_precision: 0.9590 - val_recall: 0.8802\n",
            "Epoch 22/25\n",
            "193/193 [==============================] - 1s 6ms/step - loss: 0.3563 - acc: 0.8899 - precision: 0.9454 - recall: 0.8514 - val_loss: 0.3250 - val_acc: 0.9064 - val_precision: 0.9540 - val_recall: 0.8820\n",
            "Epoch 23/25\n",
            "193/193 [==============================] - 1s 5ms/step - loss: 0.3480 - acc: 0.8896 - precision: 0.9415 - recall: 0.8531 - val_loss: 0.3160 - val_acc: 0.9078 - val_precision: 0.9565 - val_recall: 0.8858\n",
            "Epoch 24/25\n",
            "193/193 [==============================] - 1s 6ms/step - loss: 0.3409 - acc: 0.8933 - precision: 0.9439 - recall: 0.8604 - val_loss: 0.3164 - val_acc: 0.9086 - val_precision: 0.9553 - val_recall: 0.8822\n",
            "Epoch 25/25\n",
            "193/193 [==============================] - 1s 6ms/step - loss: 0.3352 - acc: 0.8940 - precision: 0.9414 - recall: 0.8589 - val_loss: 0.3101 - val_acc: 0.9080 - val_precision: 0.9530 - val_recall: 0.8852\n"
          ]
        }
      ]
    }
  ]
}