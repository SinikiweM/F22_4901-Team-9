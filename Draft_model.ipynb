{
  "nbformat": 4,
  "nbformat_minor": 0,
  "metadata": {
    "colab": {
      "provenance": []
    },
    "kernelspec": {
      "name": "python3",
      "display_name": "Python 3"
    },
    "language_info": {
      "name": "python"
    }
  },
  "cells": [
    {
      "cell_type": "code",
      "execution_count": null,
      "metadata": {
        "id": "wJbam4_pOhus"
      },
      "outputs": [],
      "source": [
        "\n",
        "'''\n",
        "@article{oviedoBankNote-Net2022,\n",
        "  title   = {BankNote-Net: Open Dataset for Assistive Currency Recognition},\n",
        "  author  = {Felipe Oviedo, Srinivas Vinnakota, Eugene Seleznev, Hemant Malhotra, Saqib Shaikh & Juan Lavista Ferres},\n",
        "  journal = {https://arxiv.org/pdf/2204.03738.pdf},\n",
        "  year    = {2022},\n",
        "}\n",
        "'''\n"
      ]
    },
    {
      "cell_type": "markdown",
      "source": [
        "#TRAIN FROM EMBEDDING"
      ],
      "metadata": {
        "id": "qcr0AF6fuxLj"
      }
    },
    {
      "cell_type": "markdown",
      "source": [
        "#training model\n"
      ],
      "metadata": {
        "id": "tPg8xh0I4VsP"
      }
    },
    {
      "cell_type": "code",
      "source": [
        "from google.colab import drive\n",
        "drive.mount('/content/gdrive')\n"
      ],
      "metadata": {
        "colab": {
          "base_uri": "https://localhost:8080/"
        },
        "id": "H7dLgttzqpge",
        "outputId": "cc64ebe7-8e98-416a-aada-bb28637d8ec9"
      },
      "execution_count": 2,
      "outputs": [
        {
          "output_type": "stream",
          "name": "stdout",
          "text": [
            "Mounted at /content/gdrive\n"
          ]
        }
      ]
    },
    {
      "cell_type": "code",
      "source": [
        "!unzip \"/content/gdrive/MyDrive/banknote-net.zip\""
      ],
      "metadata": {
        "colab": {
          "base_uri": "https://localhost:8080/"
        },
        "id": "loVeRRRrsmpW",
        "outputId": "bdc441eb-95ed-4c97-cd33-79a64f36d521"
      },
      "execution_count": 3,
      "outputs": [
        {
          "output_type": "stream",
          "name": "stdout",
          "text": [
            "Archive:  /content/gdrive/MyDrive/banknote-net.zip\n",
            "   creating: banknote-net/\n",
            "  inflating: banknote-net/CODE_OF_CONDUCT.md  \n",
            "  inflating: banknote-net/.DS_Store  \n",
            "  inflating: __MACOSX/banknote-net/._.DS_Store  \n",
            "  inflating: banknote-net/LICENSE    \n",
            "  inflating: banknote-net/env.yaml   \n",
            "   creating: banknote-net/models/\n",
            "  inflating: banknote-net/README.md  \n",
            "  inflating: banknote-net/reload     \n",
            "  inflating: banknote-net/.gitignore  \n",
            "   creating: banknote-net/.git/\n",
            "   creating: banknote-net/data/\n",
            "  inflating: banknote-net/SECURITY.md  \n",
            "   creating: banknote-net/src/\n",
            "  inflating: banknote-net/models/banknote_net_encoder.h5  \n",
            "  inflating: banknote-net/.git/config  \n",
            "   creating: banknote-net/.git/objects/\n",
            "  inflating: banknote-net/.git/HEAD  \n",
            "   creating: banknote-net/.git/info/\n",
            "   creating: banknote-net/.git/logs/\n",
            "  inflating: banknote-net/.git/description  \n",
            "   creating: banknote-net/.git/hooks/\n",
            "   creating: banknote-net/.git/refs/\n",
            "  inflating: banknote-net/.git/index  \n",
            "  inflating: banknote-net/.git/packed-refs  \n",
            "  inflating: banknote-net/.git/COMMIT_EDITMSG  \n",
            "  inflating: banknote-net/data/banknote_net.csv  \n",
            "  inflating: banknote-net/data/.DS_Store  \n",
            "  inflating: __MACOSX/banknote-net/data/._.DS_Store  \n",
            "  inflating: banknote-net/data/banknote_net.feather  \n",
            "   creating: banknote-net/data/example_images/\n",
            "  inflating: banknote-net/src/data_exploration.ipynb  \n",
            "  inflating: banknote-net/src/train_custom.py  \n",
            "   creating: banknote-net/src/trained_models/\n",
            "  inflating: banknote-net/src/predict_custom.py  \n",
            "  inflating: banknote-net/src/train_from_embedding.py  \n",
            "  inflating: banknote-net/src/embedding_vis.png  \n",
            "   creating: banknote-net/.git/objects/34/\n",
            "   creating: banknote-net/.git/objects/pack/\n",
            "   creating: banknote-net/.git/objects/81/\n",
            "   creating: banknote-net/.git/objects/info/\n",
            "   creating: banknote-net/.git/objects/63/\n",
            "   creating: banknote-net/.git/objects/cc/\n",
            "  inflating: banknote-net/.git/info/exclude  \n",
            "  inflating: banknote-net/.git/logs/HEAD  \n",
            "   creating: banknote-net/.git/logs/refs/\n",
            "  inflating: banknote-net/.git/hooks/commit-msg.sample  \n",
            "  inflating: banknote-net/.git/hooks/pre-rebase.sample  \n",
            "  inflating: banknote-net/.git/hooks/pre-commit.sample  \n",
            "  inflating: banknote-net/.git/hooks/applypatch-msg.sample  \n",
            "  inflating: banknote-net/.git/hooks/fsmonitor-watchman.sample  \n",
            "  inflating: banknote-net/.git/hooks/pre-receive.sample  \n",
            "  inflating: banknote-net/.git/hooks/prepare-commit-msg.sample  \n",
            "  inflating: banknote-net/.git/hooks/post-update.sample  \n",
            "  inflating: banknote-net/.git/hooks/pre-merge-commit.sample  \n",
            "  inflating: banknote-net/.git/hooks/pre-applypatch.sample  \n",
            "  inflating: banknote-net/.git/hooks/pre-push.sample  \n",
            "  inflating: banknote-net/.git/hooks/update.sample  \n",
            "  inflating: banknote-net/.git/hooks/push-to-checkout.sample  \n",
            "   creating: banknote-net/.git/refs/heads/\n",
            "   creating: banknote-net/.git/refs/tags/\n",
            "   creating: banknote-net/.git/refs/remotes/\n",
            "  inflating: banknote-net/data/example_images/.DS_Store  \n",
            "  inflating: __MACOSX/banknote-net/data/example_images/._.DS_Store  \n",
            "   creating: banknote-net/data/example_images/SEK/\n",
            "  inflating: banknote-net/src/trained_models/custom_classifier.h5  \n",
            "  inflating: banknote-net/src/trained_models/shallow_classifier.h5  \n",
            "  inflating: banknote-net/.git/objects/34/f9a4cba393d8a37963713c501c3e458b590128  \n",
            "  inflating: banknote-net/.git/objects/pack/pack-421cb8f8de19cf55053ff240243b4db3d8973061.idx  \n",
            "  inflating: banknote-net/.git/objects/pack/pack-421cb8f8de19cf55053ff240243b4db3d8973061.pack  \n",
            "  inflating: banknote-net/.git/objects/81/8da88942c2d8c08fe43bc0606461c287606077  \n",
            "  inflating: banknote-net/.git/objects/63/e3977e698b35fb715b0e2d31073ca9d4396beb  \n",
            "  inflating: banknote-net/.git/objects/cc/1d93445bb51505432a8f6f505afcd49744b565  \n",
            "   creating: banknote-net/.git/logs/refs/heads/\n",
            "   creating: banknote-net/.git/logs/refs/remotes/\n",
            "  inflating: banknote-net/.git/refs/heads/main  \n",
            "   creating: banknote-net/.git/refs/remotes/origin/\n",
            "  inflating: banknote-net/data/example_images/SEK/.DS_Store  \n",
            "  inflating: __MACOSX/banknote-net/data/example_images/SEK/._.DS_Store  \n",
            "   creating: banknote-net/data/example_images/SEK/train/\n",
            "   creating: banknote-net/data/example_images/SEK/val/\n",
            "  inflating: banknote-net/.git/logs/refs/heads/main  \n",
            "   creating: banknote-net/.git/logs/refs/remotes/origin/\n",
            "  inflating: banknote-net/.git/refs/remotes/origin/HEAD  \n",
            "   creating: banknote-net/data/example_images/SEK/train/200_2/\n",
            "   creating: banknote-net/data/example_images/SEK/train/50_1/\n",
            "   creating: banknote-net/data/example_images/SEK/train/100_2/\n",
            "  inflating: banknote-net/data/example_images/SEK/train/.DS_Store  \n",
            "  inflating: __MACOSX/banknote-net/data/example_images/SEK/train/._.DS_Store  \n",
            "   creating: banknote-net/data/example_images/SEK/train/20_2/\n",
            "   creating: banknote-net/data/example_images/SEK/train/200_1/\n",
            "   creating: banknote-net/data/example_images/SEK/train/50_2/\n",
            "   creating: banknote-net/data/example_images/SEK/train/100_1/\n",
            "   creating: banknote-net/data/example_images/SEK/train/20_1/\n",
            "   creating: banknote-net/data/example_images/SEK/val/200_2/\n",
            "   creating: banknote-net/data/example_images/SEK/val/50_1/\n",
            "   creating: banknote-net/data/example_images/SEK/val/100_2/\n",
            "  inflating: banknote-net/data/example_images/SEK/val/.DS_Store  \n",
            "  inflating: __MACOSX/banknote-net/data/example_images/SEK/val/._.DS_Store  \n",
            "   creating: banknote-net/data/example_images/SEK/val/20_2/\n",
            "   creating: banknote-net/data/example_images/SEK/val/200_1/\n",
            "   creating: banknote-net/data/example_images/SEK/val/50_2/\n",
            "   creating: banknote-net/data/example_images/SEK/val/100_1/\n",
            "   creating: banknote-net/data/example_images/SEK/val/20_1/\n",
            "  inflating: banknote-net/.git/logs/refs/remotes/origin/HEAD  \n",
            "  inflating: banknote-net/data/example_images/SEK/train/200_2/50_image_777.jpg  \n",
            "  inflating: banknote-net/data/example_images/SEK/train/200_2/47_image_1582.jpg  \n",
            "  inflating: banknote-net/data/example_images/SEK/train/200_2/image_4392.jpg  \n",
            "  inflating: banknote-net/data/example_images/SEK/train/200_2/image.jpg  \n",
            "  inflating: banknote-net/data/example_images/SEK/train/50_1/49_image_667.jpg  \n",
            "  inflating: banknote-net/data/example_images/SEK/train/50_1/5_image_8993.jpg  \n",
            "  inflating: banknote-net/data/example_images/SEK/train/50_1/46_image_5519.jpg  \n",
            "  inflating: banknote-net/data/example_images/SEK/train/50_1/image_9695.jpg  \n",
            "  inflating: banknote-net/data/example_images/SEK/train/50_1/image_9745.jpg  \n",
            "  inflating: banknote-net/data/example_images/SEK/train/50_1/image_1296.jpg  \n",
            "  inflating: banknote-net/data/example_images/SEK/train/100_2/47_image_6099.jpg  \n",
            "  inflating: banknote-net/data/example_images/SEK/train/100_2/image_2418.jpg  \n",
            "  inflating: banknote-net/data/example_images/SEK/train/100_2/image_3289.jpg  \n",
            "  inflating: banknote-net/data/example_images/SEK/train/100_2/image.jpg  \n",
            "  inflating: banknote-net/data/example_images/SEK/train/100_2/image_7221.jpg  \n",
            "  inflating: banknote-net/data/example_images/SEK/train/20_2/50_image_4007.jpg  \n",
            "  inflating: banknote-net/data/example_images/SEK/train/20_2/image_5166.jpg  \n",
            "  inflating: banknote-net/data/example_images/SEK/train/20_2/image_1745.jpg  \n",
            "  inflating: banknote-net/data/example_images/SEK/train/20_2/47_image_2036.jpg  \n",
            "  inflating: banknote-net/data/example_images/SEK/train/20_2/image_8886.jpg  \n",
            "  inflating: banknote-net/data/example_images/SEK/train/20_2/image.jpg  \n",
            "  inflating: banknote-net/data/example_images/SEK/train/200_1/49_image_7829.jpg  \n",
            "  inflating: banknote-net/data/example_images/SEK/train/200_1/46_image_1244.jpg  \n",
            "  inflating: banknote-net/data/example_images/SEK/train/200_1/image_3967.jpg  \n",
            "  inflating: banknote-net/data/example_images/SEK/train/200_1/5_image_294.jpg  \n",
            "  inflating: banknote-net/data/example_images/SEK/train/50_2/image_4730.jpg  \n",
            "  inflating: banknote-net/data/example_images/SEK/train/50_2/image_2741.jpg  \n",
            "  inflating: banknote-net/data/example_images/SEK/train/50_2/50_image_9550.jpg  \n",
            "  inflating: banknote-net/data/example_images/SEK/train/50_2/47_image_4371.jpg  \n",
            "  inflating: banknote-net/data/example_images/SEK/train/50_2/image.jpg  \n",
            "  inflating: banknote-net/data/example_images/SEK/train/100_1/image_4914.jpg  \n",
            "  inflating: banknote-net/data/example_images/SEK/train/100_1/5_image_5817.jpg  \n",
            "  inflating: banknote-net/data/example_images/SEK/train/100_1/image_7701.jpg  \n",
            "  inflating: banknote-net/data/example_images/SEK/train/100_1/49_image_9883.jpg  \n",
            "  inflating: banknote-net/data/example_images/SEK/train/100_1/46_image_7774.jpg  \n",
            "  inflating: banknote-net/data/example_images/SEK/train/20_1/5_image_7668.jpg  \n",
            "  inflating: banknote-net/data/example_images/SEK/train/20_1/image_1667.jpg  \n",
            "  inflating: banknote-net/data/example_images/SEK/train/20_1/image_1512.jpg  \n",
            "  inflating: banknote-net/data/example_images/SEK/train/20_1/46_image_2137.jpg  \n",
            "  inflating: banknote-net/data/example_images/SEK/train/20_1/image_5965.jpg  \n",
            "  inflating: banknote-net/data/example_images/SEK/train/20_1/image_9379.jpg  \n",
            "  inflating: banknote-net/data/example_images/SEK/val/200_2/image_5765.jpg  \n",
            "  inflating: banknote-net/data/example_images/SEK/val/200_2/image_4555.jpg  \n",
            "  inflating: banknote-net/data/example_images/SEK/val/50_1/image_282.jpg  \n",
            "  inflating: banknote-net/data/example_images/SEK/val/50_1/image_2049.jpg  \n",
            "  inflating: banknote-net/data/example_images/SEK/val/100_2/image_4344.jpg  \n",
            "  inflating: banknote-net/data/example_images/SEK/val/100_2/image_8602.jpg  \n",
            "  inflating: banknote-net/data/example_images/SEK/val/20_2/image_5099.jpg  \n",
            "  inflating: banknote-net/data/example_images/SEK/val/20_2/image_2102.jpg  \n",
            "  inflating: banknote-net/data/example_images/SEK/val/200_1/image_7162.jpg  \n",
            "  inflating: banknote-net/data/example_images/SEK/val/50_2/image_8385.jpg  \n",
            "  inflating: banknote-net/data/example_images/SEK/val/50_2/image_3197.jpg  \n",
            "  inflating: banknote-net/data/example_images/SEK/val/100_1/image_5563.jpg  \n",
            "  inflating: banknote-net/data/example_images/SEK/val/100_1/image_8557.jpg  \n",
            "  inflating: banknote-net/data/example_images/SEK/val/20_1/image_5413.jpg  \n",
            "  inflating: banknote-net/data/example_images/SEK/val/20_1/image_4387.jpg  \n"
          ]
        }
      ]
    },
    {
      "cell_type": "code",
      "source": [
        "import pandas as pd\n",
        "PATH = \"/content/banknote-net/data/banknote_net.feather\"\n",
        "data = pd.read_feather(PATH)\n",
        "len(data.Currency.unique())\n"
      ],
      "metadata": {
        "colab": {
          "base_uri": "https://localhost:8080/"
        },
        "id": "kEjZ1g9Z6o-V",
        "outputId": "0fa584a2-cd63-446e-d263-b86558c2bf24"
      },
      "execution_count": 4,
      "outputs": [
        {
          "output_type": "execute_result",
          "data": {
            "text/plain": [
              "17"
            ]
          },
          "metadata": {},
          "execution_count": 4
        }
      ]
    },
    {
      "cell_type": "code",
      "source": [
        "#extract class names\n",
        "#https://www.tensorflow.org/tutorials/images/classification#predict_on_new_data\n",
        "\n",
        "features,label = data.iloc[:,:-2],data.iloc[:,-2:]\n",
        "combine_label = data['Currency'].astype(str) + data['Denomination'].astype(str)\n",
        "#combine_label = combine_label.unique()\n",
        "combine_label"
      ],
      "metadata": {
        "id": "KXCalwhaHMwD",
        "colab": {
          "base_uri": "https://localhost:8080/"
        },
        "outputId": "d6cf65c0-0e73-4697-fa42-c232d36176ed"
      },
      "execution_count": 5,
      "outputs": [
        {
          "output_type": "execute_result",
          "data": {
            "text/plain": [
              "0        AUD100_1\n",
              "1        AUD100_1\n",
              "2        AUD100_1\n",
              "3        AUD100_1\n",
              "4        AUD100_1\n",
              "           ...   \n",
              "24821      USD5_2\n",
              "24822      USD5_2\n",
              "24823      USD5_2\n",
              "24824      USD5_2\n",
              "24825      USD5_2\n",
              "Length: 24826, dtype: object"
            ]
          },
          "metadata": {},
          "execution_count": 5
        }
      ]
    },
    {
      "cell_type": "code",
      "source": [
        "import pandas as pd\n",
        "import tensorflow as tf\n",
        "from tensorflow.keras.callbacks import ModelCheckpoint\n",
        "from tensorflow.keras.layers import Dense, Dropout, Input\n",
        "from tensorflow.keras.models import Model,load_model\n",
        "from tensorflow.keras.preprocessing.image import ImageDataGenerator\n",
        "def create_generator(\n",
        "    TRAIN_PATH: str,\n",
        "    VAL_PATH:str,\n",
        "    IMG_SIZE: tuple,\n",
        "    BATCH_SIZE: int = 2,\n",
        "    NUM_CLASSES: int = 10,\n",
        "):\n",
        "  IMG_WIDTH,IMG_HEIGHT = IMG_SIZE\n",
        "  train_datagen = ImageDataGenerator(rescale=1.0/255,\n",
        "                                     samplewise_center=False,\n",
        "                                     samplewise_std_normalization=False,\n",
        "                                     rotation_range=180,\n",
        "                                     channel_shift_range=40,\n",
        "                                     fill_mode='nearest',\n",
        "                                     )\n",
        "  test_datagen = ImageDataGenerator(rescale=1.0/255,)\n",
        "\n",
        "  #initialize generators and create TF datasets\n",
        "  train_generator = train_datagen.flow_from_directory(TRAIN_PATH,\n",
        "                                                      target_size = (IMG_WIDTH,IMG_HEIGHT),\n",
        "                                                      batch_size = BATCH_SIZE,\n",
        "                                                      shuffle=True,\n",
        "                                                      seed=12345,\n",
        "                                                      class_mode = \"categorical\",\n",
        "                                                      )\n",
        "  validation_generator  = test_datagen.flow_from_directory(\n",
        "      VAL_PATH,\n",
        "      target_size = (IMG_WIDTH,IMG_HEIGHT),\n",
        "      batch_size = BATCH_SIZE,\n",
        "      shuffle = False,\n",
        "      class_mode = \"categorical\",\n",
        "  )\n",
        "  train_ds = tf.data.Dataset.from_generator(\n",
        "      lambda:train_generator,\n",
        "      output_types = (tf.float32,tf.float32),\n",
        "      output_shapes = ([None,IMG_HEIGHT,IMG_WIDTH, 3],[None,NUM_CLASSES]),\n",
        "  )\n",
        "  val_ds = tf.data.Dataset.from_generator(\n",
        "      lambda:validation_generator,\n",
        "      output_types=(tf.float32,tf.float32),\n",
        "      output_shapes=([None,IMG_HEIGHT,IMG_WIDTH,3],[None,NUM_CLASSES]),\n",
        "  )\n",
        "  return train_ds,val_ds\n",
        "  \n"
      ],
      "metadata": {
        "id": "zsbwYuA6fsKZ"
      },
      "execution_count": 6,
      "outputs": []
    },
    {
      "cell_type": "code",
      "source": [
        "import os\n",
        "import numpy as np\n",
        "BATCH_SIZE = 4\n",
        "NB_EPOCH = 25\n",
        "ENC_PATH = \"/content/banknote-net/models/banknote_net_encoder.h5\"\n",
        "DATA_PATH = \"/content/banknote-net/data/example_images/SEK\"\n",
        "NUM_CLASSES = len(next(os.walk(f\"{DATA_PATH}/train/\"))[1])\n",
        "IMG_SIZE = (224, 224)\n",
        "NB_TRAINING_SAMPLES= sum([len(file) for r,d, file in os.walk(f\"{DATA_PATH}/train/\")])\n",
        "NB_VALIDATION_SAMPLES = sum([len(files) for r, d, files in os.walk(f\"{DATA_PATH}/val/\")])\n",
        "\n",
        "train_ds,val_ds = create_generator(TRAIN_PATH=f\"{DATA_PATH}/train/\",\n",
        "                                   VAL_PATH=f\"{DATA_PATH}/val/\",\n",
        "                                   IMG_SIZE=IMG_SIZE,\n",
        "                                   BATCH_SIZE=BATCH_SIZE,\n",
        "                                   NUM_CLASSES=NUM_CLASSES,)\n",
        "'''\n",
        "encoder = load_model(ENC_PATH)\n",
        "for layer in encoder.layers:\n",
        "  layer.trainable = False\n",
        "\n",
        "input = Input(shape=(IMG_SIZE[0], IMG_SIZE[1], 3))\n",
        "x = encoder(input)\n",
        "x = Dense(256,activation='relu')(input)\n",
        "x = Dropout(0.5)(x)\n",
        "x = Dense(NUM_CLASSES, activation='softmax')(x)\n",
        "model = Model(inputs=input,outputs=x)\n",
        "'''\n",
        "model1 = load_model(ENC_PATH)\n",
        "model1.summary()\n",
        "\n",
        "'''\n",
        "checkpoint = ModelCheckpoint(\n",
        "      filepath = (\"/content/banknote-net/src/trained_models/custom_classifier.h5\"),\n",
        "      monitor = 'val_acc',\n",
        "      save_best_only=True,\n",
        ")\n",
        "\n",
        "  #compile and fit\n",
        "model.compile(loss='categorical_crossentropy',\n",
        "                optimizer = tf.keras.optimizers.Adam(learning_rate=1e-3),\n",
        "                metrics=['acc',\n",
        "                         tf.keras.metrics.Precision(),\n",
        "                         tf.keras.metrics.Recall(),\n",
        "                         ],\n",
        "                )\n",
        "model.fit(train_ds,\n",
        "            steps_per_epoch = NB_TRAINING_SAMPLES//BATCH_SIZE,\n",
        "            epochs = NB_EPOCH,\n",
        "            validation_steps=NB_VALIDATION_SAMPLES // BATCH_SIZE + 1,\n",
        "            validation_data= val_ds,\n",
        "            callbacks = [checkpoint],\n",
        "            )\n",
        "'''"
      ],
      "metadata": {
        "colab": {
          "base_uri": "https://localhost:8080/",
          "height": 370
        },
        "id": "YSMgJzuCjrCG",
        "outputId": "81461e4a-4519-44e6-dc2f-f8e082f22829"
      },
      "execution_count": 7,
      "outputs": [
        {
          "output_type": "stream",
          "name": "stdout",
          "text": [
            "Found 41 images belonging to 8 classes.\n",
            "Found 15 images belonging to 8 classes.\n"
          ]
        },
        {
          "output_type": "stream",
          "name": "stderr",
          "text": [
            "WARNING:tensorflow:No training configuration found in the save file, so the model was *not* compiled. Compile it manually.\n"
          ]
        },
        {
          "output_type": "stream",
          "name": "stdout",
          "text": [
            "Model: \"sequential\"\n",
            "_________________________________________________________________\n",
            " Layer (type)                Output Shape              Param #   \n",
            "=================================================================\n",
            " mobilenetv2_1.30_224 (Funct  (None, 7, 7, 1664)       3766048   \n",
            " ional)                                                          \n",
            "                                                                 \n",
            " global_average_pooling2d (G  (None, 1664)             0         \n",
            " lobalAveragePooling2D)                                          \n",
            "                                                                 \n",
            " dense (Dense)               (None, 256)               426240    \n",
            "                                                                 \n",
            "=================================================================\n",
            "Total params: 4,192,288\n",
            "Trainable params: 3,733,056\n",
            "Non-trainable params: 459,232\n",
            "_________________________________________________________________\n"
          ]
        },
        {
          "output_type": "execute_result",
          "data": {
            "text/plain": [
              "'\\ncheckpoint = ModelCheckpoint(\\n      filepath = (\"/content/banknote-net/src/trained_models/custom_classifier.h5\"),\\n      monitor = \\'val_acc\\',\\n      save_best_only=True,\\n)\\n\\n  #compile and fit\\nmodel.compile(loss=\\'categorical_crossentropy\\',\\n                optimizer = tf.keras.optimizers.Adam(learning_rate=1e-3),\\n                metrics=[\\'acc\\',\\n                         tf.keras.metrics.Precision(),\\n                         tf.keras.metrics.Recall(),\\n                         ],\\n                )\\nmodel.fit(train_ds,\\n            steps_per_epoch = NB_TRAINING_SAMPLES//BATCH_SIZE,\\n            epochs = NB_EPOCH,\\n            validation_steps=NB_VALIDATION_SAMPLES // BATCH_SIZE + 1,\\n            validation_data= val_ds,\\n            callbacks = [checkpoint],\\n            )\\n'"
            ],
            "application/vnd.google.colaboratory.intrinsic+json": {
              "type": "string"
            }
          },
          "metadata": {},
          "execution_count": 7
        }
      ]
    },
    {
      "cell_type": "code",
      "source": [
        "BATCH_SIZE = 128\n",
        "NB_EPOCH = 25\n",
        "PATH = \"/content/banknote-net/data/banknote_net.feather\"\n",
        "\n",
        "  #load data from embedding\n",
        "data = pd.read_feather(PATH)\n",
        "data.Currency.unique()\n",
        "  #data = data[data.Currency == CURRENCY]\n",
        "  \n",
        "data= data.sample(frac = 1)\n",
        "#labels = data[[\"Currency\",\"Denomination\"]].copy()\n",
        "labels = data['Currency'] + data['Denomination']\n",
        "labels = labels.astype(\"category\")\n",
        "labels_encoded = pd.get_dummies(labels)\n",
        "data = data.iloc[:,:-2] #keep the embedding"
      ],
      "metadata": {
        "id": "6AB9S0f_TS3u"
      },
      "execution_count": 8,
      "outputs": []
    },
    {
      "cell_type": "code",
      "source": [
        "#model II for the compare result\n",
        "import tensorflow as tf\n",
        "from tensorflow.keras.callbacks import ModelCheckpoint\n",
        "from tensorflow.keras.layers import Dense, Dropout, Input\n",
        "from tensorflow.keras.models import Model, load_model\n",
        "def main(data, labels, labels_encoded):\n",
        "  \"trains shallow classifier using embeddings\"\n",
        "  CURRENCY = [\n",
        "    'AUD', #australian dollar\n",
        "    'BRL', #Brazillian real\n",
        "    'CAD', #Canadian dollar\n",
        "    'EUR', #Euro\n",
        "    'GBP', #Pound\n",
        "    'INR', #Indian Rupee\n",
        "    'JPY', #Japanese Yen\n",
        "    'MXN', # Mexican Peso\n",
        "    'PKR', #Pakistani peso\n",
        "    'SGD', #Singapore dollar\n",
        "    'TRY', #Turkish lira\n",
        "    'USD', #US dollar\n",
        "    'NZD', #newzealand dollar\n",
        "    'NNR', #\n",
        "    'MYR', #Malaysian Ringgit\n",
        "    'IDR', #Indonesian rupiah\n",
        "    'PHP', #philipine peso\n",
        "  ]\n",
        "\n",
        "  #define dataset and shallow model\n",
        "  NUM_CLASSES  = len(labels.unique())\n",
        "  NB_TRAINING_SAMPLES = len(data)\n",
        "\n",
        "  input = Input(shape=(256,))\n",
        "  ##### test load pretrained model\n",
        "  #encoder = load_model(\"/content/banknote-net/models/banknote_net_encoder.h5\")\n",
        "  #for layer in model1.layers:\n",
        "  #      layer.trainable = False\n",
        "  #x = model1(input)\n",
        "  x = Dense(256,activation='relu')(input)\n",
        "  x = Dropout(0.5)(x)\n",
        "  x = Dense(NUM_CLASSES, activation='softmax')(x)\n",
        "  model = Model(inputs=input,outputs=x)\n",
        "  model.summary()\n",
        "  print(\"model build: ok\")\n",
        "  checkpoint = ModelCheckpoint(\n",
        "      filepath = (\"/content/banknote-net/models/banknote_net_encoder.h5\"),\n",
        "      monitor = 'val_acc',\n",
        "      save_best_only=True,\n",
        "  )\n",
        "\n",
        "  #compile and fit\n",
        "  model.compile(loss='categorical_crossentropy',\n",
        "                optimizer = tf.keras.optimizers.Adam(lr=1e-3),\n",
        "                metrics=['acc',\n",
        "                         tf.keras.metrics.Precision(),\n",
        "                         tf.keras.metrics.Recall(),\n",
        "                         ],\n",
        "                )\n",
        "  model.fit(x=data.values,\n",
        "            y = labels_encoded.values,\n",
        "            steps_per_epoch = NB_TRAINING_SAMPLES//BATCH_SIZE,\n",
        "            epochs = NB_EPOCH,\n",
        "            validation_split = 0.2,\n",
        "            callbacks = [checkpoint],\n",
        "            )\n",
        "  \n",
        "  return model"
      ],
      "metadata": {
        "id": "cLKHjp0yQ42b"
      },
      "execution_count": 9,
      "outputs": []
    },
    {
      "cell_type": "code",
      "source": [
        "model2 = main(data,labels,labels_encoded)"
      ],
      "metadata": {
        "colab": {
          "base_uri": "https://localhost:8080/"
        },
        "id": "2yNqbvFwkUUr",
        "outputId": "314b3168-d248-4a28-d8fa-80d39e8578e4"
      },
      "execution_count": 10,
      "outputs": [
        {
          "output_type": "stream",
          "name": "stdout",
          "text": [
            "Model: \"model\"\n",
            "_________________________________________________________________\n",
            " Layer (type)                Output Shape              Param #   \n",
            "=================================================================\n",
            " input_1 (InputLayer)        [(None, 256)]             0         \n",
            "                                                                 \n",
            " dense (Dense)               (None, 256)               65792     \n",
            "                                                                 \n",
            " dropout (Dropout)           (None, 256)               0         \n",
            "                                                                 \n",
            " dense_1 (Dense)             (None, 224)               57568     \n",
            "                                                                 \n",
            "=================================================================\n",
            "Total params: 123,360\n",
            "Trainable params: 123,360\n",
            "Non-trainable params: 0\n",
            "_________________________________________________________________\n"
          ]
        },
        {
          "output_type": "stream",
          "name": "stderr",
          "text": [
            "WARNING:absl:`lr` is deprecated, please use `learning_rate` instead, or use the legacy optimizer, e.g.,tf.keras.optimizers.legacy.Adam.\n"
          ]
        },
        {
          "output_type": "stream",
          "name": "stdout",
          "text": [
            "model build: ok\n",
            "Epoch 1/25\n",
            "193/193 [==============================] - 2s 8ms/step - loss: 2.1519 - acc: 0.5803 - precision: 0.9463 - recall: 0.4275 - val_loss: 0.4785 - val_acc: 0.9001 - val_precision: 0.9762 - val_recall: 0.8268\n",
            "Epoch 2/25\n",
            "193/193 [==============================] - 1s 6ms/step - loss: 0.6072 - acc: 0.8525 - precision: 0.9463 - recall: 0.7838 - val_loss: 0.3467 - val_acc: 0.9170 - val_precision: 0.9710 - val_recall: 0.8709\n",
            "Epoch 3/25\n",
            "193/193 [==============================] - 1s 6ms/step - loss: 0.4478 - acc: 0.8854 - precision: 0.9547 - recall: 0.8377 - val_loss: 0.2851 - val_acc: 0.9283 - val_precision: 0.9695 - val_recall: 0.8973\n",
            "Epoch 4/25\n",
            "193/193 [==============================] - 1s 6ms/step - loss: 0.3788 - acc: 0.8991 - precision: 0.9553 - recall: 0.8626 - val_loss: 0.2683 - val_acc: 0.9305 - val_precision: 0.9684 - val_recall: 0.9068\n",
            "Epoch 5/25\n",
            "193/193 [==============================] - 2s 8ms/step - loss: 0.3257 - acc: 0.9121 - precision: 0.9573 - recall: 0.8802 - val_loss: 0.2541 - val_acc: 0.9327 - val_precision: 0.9685 - val_recall: 0.9114\n",
            "Epoch 6/25\n",
            "193/193 [==============================] - 2s 9ms/step - loss: 0.2843 - acc: 0.9221 - precision: 0.9611 - recall: 0.8942 - val_loss: 0.2463 - val_acc: 0.9354 - val_precision: 0.9664 - val_recall: 0.9138\n",
            "Epoch 7/25\n",
            "193/193 [==============================] - 1s 7ms/step - loss: 0.2651 - acc: 0.9250 - precision: 0.9619 - recall: 0.8985 - val_loss: 0.2298 - val_acc: 0.9378 - val_precision: 0.9665 - val_recall: 0.9184\n",
            "Epoch 8/25\n",
            "193/193 [==============================] - 1s 6ms/step - loss: 0.2407 - acc: 0.9340 - precision: 0.9662 - recall: 0.9096 - val_loss: 0.2316 - val_acc: 0.9404 - val_precision: 0.9690 - val_recall: 0.9263\n",
            "Epoch 9/25\n",
            "193/193 [==============================] - 1s 6ms/step - loss: 0.2274 - acc: 0.9346 - precision: 0.9636 - recall: 0.9113 - val_loss: 0.2284 - val_acc: 0.9382 - val_precision: 0.9662 - val_recall: 0.9275\n",
            "Epoch 10/25\n",
            "193/193 [==============================] - 1s 6ms/step - loss: 0.2124 - acc: 0.9371 - precision: 0.9645 - recall: 0.9170 - val_loss: 0.2254 - val_acc: 0.9400 - val_precision: 0.9662 - val_recall: 0.9275\n",
            "Epoch 11/25\n",
            "193/193 [==============================] - 1s 6ms/step - loss: 0.1924 - acc: 0.9430 - precision: 0.9686 - recall: 0.9229 - val_loss: 0.2185 - val_acc: 0.9426 - val_precision: 0.9688 - val_recall: 0.9305\n",
            "Epoch 12/25\n",
            "193/193 [==============================] - 1s 6ms/step - loss: 0.1810 - acc: 0.9453 - precision: 0.9688 - recall: 0.9273 - val_loss: 0.2199 - val_acc: 0.9410 - val_precision: 0.9651 - val_recall: 0.9305\n",
            "Epoch 13/25\n",
            "193/193 [==============================] - 1s 6ms/step - loss: 0.1684 - acc: 0.9491 - precision: 0.9693 - recall: 0.9312 - val_loss: 0.2206 - val_acc: 0.9410 - val_precision: 0.9671 - val_recall: 0.9299\n",
            "Epoch 14/25\n",
            "193/193 [==============================] - 1s 6ms/step - loss: 0.1636 - acc: 0.9493 - precision: 0.9691 - recall: 0.9340 - val_loss: 0.2185 - val_acc: 0.9410 - val_precision: 0.9661 - val_recall: 0.9295\n",
            "Epoch 15/25\n",
            "193/193 [==============================] - 2s 9ms/step - loss: 0.1497 - acc: 0.9547 - precision: 0.9720 - recall: 0.9394 - val_loss: 0.2163 - val_acc: 0.9424 - val_precision: 0.9655 - val_recall: 0.9348\n",
            "Epoch 16/25\n",
            "193/193 [==============================] - 2s 9ms/step - loss: 0.1476 - acc: 0.9533 - precision: 0.9710 - recall: 0.9394 - val_loss: 0.2119 - val_acc: 0.9420 - val_precision: 0.9637 - val_recall: 0.9350\n",
            "Epoch 17/25\n",
            "193/193 [==============================] - 1s 6ms/step - loss: 0.1388 - acc: 0.9584 - precision: 0.9736 - recall: 0.9457 - val_loss: 0.2145 - val_acc: 0.9424 - val_precision: 0.9629 - val_recall: 0.9352\n",
            "Epoch 18/25\n",
            "193/193 [==============================] - 1s 7ms/step - loss: 0.1355 - acc: 0.9590 - precision: 0.9741 - recall: 0.9455 - val_loss: 0.2166 - val_acc: 0.9412 - val_precision: 0.9611 - val_recall: 0.9352\n",
            "Epoch 19/25\n",
            "193/193 [==============================] - 1s 7ms/step - loss: 0.1266 - acc: 0.9612 - precision: 0.9737 - recall: 0.9492 - val_loss: 0.2140 - val_acc: 0.9450 - val_precision: 0.9659 - val_recall: 0.9364\n",
            "Epoch 20/25\n",
            "193/193 [==============================] - 1s 6ms/step - loss: 0.1239 - acc: 0.9614 - precision: 0.9737 - recall: 0.9506 - val_loss: 0.2243 - val_acc: 0.9430 - val_precision: 0.9595 - val_recall: 0.9352\n",
            "Epoch 21/25\n",
            "193/193 [==============================] - 1s 6ms/step - loss: 0.1171 - acc: 0.9629 - precision: 0.9747 - recall: 0.9529 - val_loss: 0.2199 - val_acc: 0.9458 - val_precision: 0.9641 - val_recall: 0.9362\n",
            "Epoch 22/25\n",
            "193/193 [==============================] - 1s 6ms/step - loss: 0.1128 - acc: 0.9643 - precision: 0.9752 - recall: 0.9534 - val_loss: 0.2260 - val_acc: 0.9450 - val_precision: 0.9630 - val_recall: 0.9378\n",
            "Epoch 23/25\n",
            "193/193 [==============================] - 1s 6ms/step - loss: 0.1079 - acc: 0.9641 - precision: 0.9753 - recall: 0.9553 - val_loss: 0.2217 - val_acc: 0.9452 - val_precision: 0.9636 - val_recall: 0.9386\n",
            "Epoch 24/25\n",
            "193/193 [==============================] - 1s 6ms/step - loss: 0.1056 - acc: 0.9664 - precision: 0.9759 - recall: 0.9580 - val_loss: 0.2277 - val_acc: 0.9442 - val_precision: 0.9618 - val_recall: 0.9382\n",
            "Epoch 25/25\n",
            "193/193 [==============================] - 2s 11ms/step - loss: 0.1028 - acc: 0.9676 - precision: 0.9770 - recall: 0.9585 - val_loss: 0.2301 - val_acc: 0.9434 - val_precision: 0.9588 - val_recall: 0.9374\n"
          ]
        }
      ]
    },
    {
      "cell_type": "code",
      "source": [
        "five_usd = \"/content/sample_data/one_uds.jpg\"\n",
        "img = tf.keras.utils.load_img(\n",
        "    five_usd, target_size=(224, 224)\n",
        ")\n",
        "img_array = tf.keras.utils.img_to_array(img)\n",
        "img_array = tf.expand_dims(img_array, 0) # Create a batch\n",
        "\n",
        "predictions = model1.predict(img_array)\n"
      ],
      "metadata": {
        "colab": {
          "base_uri": "https://localhost:8080/"
        },
        "id": "MN2mRXrMGvFD",
        "outputId": "87d6898e-a3f8-4f74-eeaf-003ee5e2d15e"
      },
      "execution_count": 11,
      "outputs": [
        {
          "output_type": "stream",
          "name": "stdout",
          "text": [
            "1/1 [==============================] - 2s 2s/step\n"
          ]
        }
      ]
    },
    {
      "cell_type": "code",
      "source": [
        "predictions.shape"
      ],
      "metadata": {
        "colab": {
          "base_uri": "https://localhost:8080/"
        },
        "id": "H3f47KQlQxkL",
        "outputId": "4bd71226-5905-487f-9be0-34961dfb13f6"
      },
      "execution_count": null,
      "outputs": [
        {
          "output_type": "execute_result",
          "data": {
            "text/plain": [
              "(1, 256)"
            ]
          },
          "metadata": {},
          "execution_count": 64
        }
      ]
    },
    {
      "cell_type": "code",
      "source": [
        "result1 = np.argmax(predictions,axis=1)"
      ],
      "metadata": {
        "id": "2ffUvnCHuBiA"
      },
      "execution_count": null,
      "outputs": []
    },
    {
      "cell_type": "code",
      "source": [
        "print(result1)"
      ],
      "metadata": {
        "colab": {
          "base_uri": "https://localhost:8080/"
        },
        "id": "4VyHcn5iSULz",
        "outputId": "87db6e97-964c-448f-9147-3f069667f0f7"
      },
      "execution_count": null,
      "outputs": [
        {
          "output_type": "stream",
          "name": "stdout",
          "text": [
            "[44]\n"
          ]
        }
      ]
    },
    {
      "cell_type": "code",
      "source": [
        "result = model2.predict(predictions)\n",
        "result.shape"
      ],
      "metadata": {
        "colab": {
          "base_uri": "https://localhost:8080/"
        },
        "id": "u4FN4pTurJdg",
        "outputId": "fc26b0e9-e2f2-4db8-cb25-abfed5058d96"
      },
      "execution_count": 12,
      "outputs": [
        {
          "output_type": "stream",
          "name": "stdout",
          "text": [
            "1/1 [==============================] - 0s 45ms/step\n"
          ]
        },
        {
          "output_type": "execute_result",
          "data": {
            "text/plain": [
              "(1, 224)"
            ]
          },
          "metadata": {},
          "execution_count": 12
        }
      ]
    },
    {
      "cell_type": "code",
      "source": [
        "result = np.argmax(result,axis = 1)"
      ],
      "metadata": {
        "id": "AvwTc_izS0pY"
      },
      "execution_count": 15,
      "outputs": []
    },
    {
      "cell_type": "code",
      "source": [
        "checker = labels.unique()\n",
        "print(checker[result])"
      ],
      "metadata": {
        "colab": {
          "base_uri": "https://localhost:8080/"
        },
        "id": "s3sCsg1aVLyk",
        "outputId": "c7b6b99e-13ff-4413-99dd-36e3236f734e"
      },
      "execution_count": 19,
      "outputs": [
        {
          "output_type": "stream",
          "name": "stdout",
          "text": [
            "['NZD100_2']\n",
            "Categories (224, object): ['AUD100_1', 'AUD100_2', 'AUD10_1', 'AUD10_2', ..., 'USD50_1', 'USD50_2',\n",
            "                           'USD5_1', 'USD5_2']\n"
          ]
        }
      ]
    },
    {
      "cell_type": "code",
      "source": [
        "denomination_list = combine_label.unique()"
      ],
      "metadata": {
        "id": "hXd7bEDRwz7Y"
      },
      "execution_count": null,
      "outputs": []
    },
    {
      "cell_type": "code",
      "source": [
        "\n",
        "deno_trim_list= []\n",
        "for i in denomination_list:\n",
        "  k = ''\n",
        "  for j in i:\n",
        "    if j != \"_\":\n",
        "      k += j\n",
        "    else:\n",
        "      if k not in deno_trim_list:\n",
        "        deno_trim_list.append(k)\n",
        "      break"
      ],
      "metadata": {
        "id": "1HptalM20u8s"
      },
      "execution_count": null,
      "outputs": []
    },
    {
      "cell_type": "code",
      "source": [
        "combine_label.unique()"
      ],
      "metadata": {
        "colab": {
          "base_uri": "https://localhost:8080/"
        },
        "id": "ovES6w_M108a",
        "outputId": "8b55d67c-a416-47d6-a81e-51e67a7613c9"
      },
      "execution_count": null,
      "outputs": [
        {
          "output_type": "execute_result",
          "data": {
            "text/plain": [
              "array(['AUD100_1', 'AUD100_2', 'AUD10_1', 'AUD10_2', 'AUD20_1', 'AUD20_2',\n",
              "       'AUD50_1', 'AUD50_2', 'AUD5_1', 'AUD5_2', 'BRL100_1', 'BRL100_2',\n",
              "       'BRL10_1', 'BRL10_2', 'BRL200_1', 'BRL200_2', 'BRL20_1', 'BRL20_2',\n",
              "       'BRL2_1', 'BRL2_2', 'BRL50_1', 'BRL50_2', 'BRL5_1', 'BRL5_2',\n",
              "       'CAD100_1', 'CAD100_2', 'CAD10_1', 'CAD10_2', 'CAD20_1', 'CAD20_2',\n",
              "       'CAD50_1', 'CAD50_2', 'CAD5_1', 'CAD5_2', 'EUR100_1', 'EUR100_2',\n",
              "       'EUR10_1', 'EUR10_2', 'EUR200_1', 'EUR200_2', 'EUR20_1', 'EUR20_2',\n",
              "       'EUR50_1', 'EUR50_2', 'EUR5_1', 'EUR5_2', 'GBP10_1_1', 'GBP10_1_2',\n",
              "       'GBP10_2_1', 'GBP10_2_2', 'GBP20_1_1', 'GBP20_1_2', 'GBP20_2_1',\n",
              "       'GBP20_2_2', 'GBP50_1', 'GBP50_2', 'GBP5_1', 'GBP5_2',\n",
              "       'IDR100000_1', 'IDR100000_2', 'IDR1000_1', 'IDR1000_2',\n",
              "       'IDR20000_1', 'IDR20000_2', 'IDR2000_1', 'IDR2000_2', 'IDR50000_1',\n",
              "       'IDR50000_2', 'IDR5000_1', 'IDR5000_2', 'INR1000_1', 'INR1000_2',\n",
              "       'INR100_1_1', 'INR100_1_2', 'INR100_2_1', 'INR100_2_2',\n",
              "       'INR10_1_1', 'INR10_1_2', 'INR10_2_1', 'INR10_2_2', 'INR1_1',\n",
              "       'INR1_2', 'INR2000_1', 'INR2000_2', 'INR200_1', 'INR200_2',\n",
              "       'INR20_1_1', 'INR20_1_2', 'INR20_2_1', 'INR20_2_2', 'INR500_1_1',\n",
              "       'INR500_1_2', 'INR500_2_1', 'INR500_2_2', 'INR50_1_1', 'INR50_1_2',\n",
              "       'INR50_2_1', 'INR50_2_2', 'INR5_1', 'INR5_2', 'JPY10000_1',\n",
              "       'JPY10000_2', 'JPY1000_1', 'JPY1000_2', 'JPY2000_1', 'JPY2000_2',\n",
              "       'JPY5000_1', 'JPY5000_2', 'MXN1000_1', 'MXN1000_2', 'MXN100_1',\n",
              "       'MXN100_2', 'MXN200_1_1', 'MXN200_1_2', 'MXN200_2_1', 'MXN200_2_2',\n",
              "       'MXN20_1', 'MXN20_2', 'MXN500_1', 'MXN500_2', 'MXN50_1', 'MXN50_2',\n",
              "       'MYR100_1', 'MYR100_2', 'MYR10_1', 'MYR10_2', 'MYR1_1', 'MYR1_2',\n",
              "       'MYR20_1', 'MYR20_2', 'MYR50_1', 'MYR50_2', 'MYR5_1', 'MYR5_2',\n",
              "       'NNR1000_1', 'NNR1000_2', 'NNR100_1', 'NNR100_2', 'NNR10_1',\n",
              "       'NNR10_2', 'NNR200_1', 'NNR200_2', 'NNR20_1', 'NNR20_2',\n",
              "       'NNR500_1', 'NNR500_2', 'NNR50_1', 'NNR50_2', 'NNR5_1', 'NNR5_2',\n",
              "       'NZD100_1', 'NZD100_2', 'NZD10_1', 'NZD10_2', 'NZD20_1', 'NZD20_2',\n",
              "       'NZD50_1', 'NZD50_2', 'NZD5_1', 'NZD5_2', 'PHP1000_1', 'PHP1000_2',\n",
              "       'PHP100_1', 'PHP100_2', 'PHP200_1', 'PHP200_2', 'PHP20_1',\n",
              "       'PHP20_2', 'PHP500_1', 'PHP500_2', 'PHP50_1', 'PHP50_2',\n",
              "       'PKR1000_1', 'PKR1000_2', 'PKR100_1', 'PKR100_2', 'PKR10_1',\n",
              "       'PKR10_2', 'PKR20_1', 'PKR20_2', 'PKR5000_1', 'PKR5000_2',\n",
              "       'PKR500_1', 'PKR500_2', 'PKR50_1', 'PKR50_2', 'PKR5_1', 'PKR5_2',\n",
              "       'SGD100_1', 'SGD100_2', 'SGD10_1', 'SGD10_2', 'SGD2_1', 'SGD2_2',\n",
              "       'SGD50_1', 'SGD50_2', 'SGD5_1', 'SGD5_2', 'TRY100_1', 'TRY100_2',\n",
              "       'TRY10_1', 'TRY10_2', 'TRY200_1', 'TRY200_2', 'TRY20_1', 'TRY20_2',\n",
              "       'TRY50_1', 'TRY50_2', 'TRY5_1', 'TRY5_2', 'USD100_1', 'USD100_2',\n",
              "       'USD10_1', 'USD10_2', 'USD1_1', 'USD1_2', 'USD20_1', 'USD20_2',\n",
              "       'USD2_1', 'USD2_2', 'USD50_1', 'USD50_2', 'USD5_1', 'USD5_2'],\n",
              "      dtype=object)"
            ]
          },
          "metadata": {},
          "execution_count": 105
        }
      ]
    }
  ]
}